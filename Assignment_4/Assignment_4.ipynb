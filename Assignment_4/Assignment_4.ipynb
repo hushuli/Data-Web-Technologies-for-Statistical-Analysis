{
 "cells": [
  {
   "cell_type": "markdown",
   "metadata": {},
   "source": [
    "# STA 141B Assignment 4\n",
    "\n",
    "Due __Feb 22, 2019__ by 11:59pm. Submit by editing this file, committing the changes with git, and then pushing to your private GitHub repo for the assignment. This assignment will be graded according to the class rubric.\n",
    "\n",
    "Please do not rename this file or delete the exercise cells, because it will interfere with our grading tools. Put your answers in new cells after each exercise. You can make as many new cells as you like. Use code cells for code and Markdown cells for text. Answer all questions with complete sentences.\n",
    "\n",
    "The purpose of this assignment is to practice scraping data from web pages."
   ]
  },
  {
   "cell_type": "markdown",
   "metadata": {},
   "source": [
    "## The San Francisco Chronicle\n",
    "\n",
    "In this assignment, you'll scrape text from [The San Francisco Chronicle](https://www.sfchronicle.com/) newspaper and then analyze the text.\n",
    "\n",
    "The Chronicle is organized by category into article lists. For example, there's a [Local](https://www.sfchronicle.com/local/) list, [Sports](https://www.sfchronicle.com/sports/) list, and [Food](https://www.sfchronicle.com/food/) list.\n",
    "\n",
    "The goal of exercises 1.1 - 1.3 is to scrape articles from the Chronicle for analysis in exercise 1.4."
   ]
  },
  {
   "cell_type": "markdown",
   "metadata": {
    "tags": [
     "exercise"
    ]
   },
   "source": [
    "__Exercise 1.1.__ Write a function that extracts all of the links to articles in a Chronicle article list. The function should:\n",
    "\n",
    "* Have a parameter `url` for the URL of the article list.\n",
    "\n",
    "* Return a list of article URLs (each URL should be a string).\n",
    "\n",
    "Test your function on 2-3 different categories to make sure it works.\n",
    "\n",
    "Hints:\n",
    "\n",
    "* Be polite and save time by setting up [requests_cache](https://pypi.python.org/pypi/requests-cache) before you write your function.\n",
    "\n",
    "* You can use any of the XML/HTML parsing packages mentioned in class. Choose one and use it throughout the entire assignment."
   ]
  },
  {
   "cell_type": "code",
   "execution_count": 66,
   "metadata": {},
   "outputs": [],
   "source": [
    "# load the packages\n",
    "import matplotlib.pyplot as plt\n",
    "import numpy as np\n",
    "import pandas as pd\n",
    "import scipy as sp \n",
    "\n",
    "import lxml.html as lx\n",
    "import requests\n",
    "import requests_cache\n",
    "\n",
    "requests_cache.install_cache(\"mycache\")\n",
    "\n",
    "import re\n",
    "import nltk\n",
    "from nltk.corpus import wordnet\n",
    "\n",
    "import seaborn as sns\n",
    "%matplotlib inline"
   ]
  },
  {
   "cell_type": "code",
   "execution_count": 14,
   "metadata": {},
   "outputs": [
    {
     "data": {
      "text/plain": [
       "63"
      ]
     },
     "execution_count": 14,
     "metadata": {},
     "output_type": "execute_result"
    }
   ],
   "source": [
    "def article_list(url):\n",
    "    '''This function return a list of article URLs.'''\n",
    "    #url = \"https://www.sfchronicle.com/local/\"\n",
    "    response = requests.get(url) # request to get the url\n",
    "    response.raise_for_status() # check the status\n",
    "    html = lx.fromstring(response.text) # get text\n",
    "    html.make_links_absolute(url) # makes all links in the document absolut\n",
    "\n",
    "    lks = html.xpath(\"//*[contains(@class, 'headline')]/a/@href\")\n",
    "    lks = html.xpath(\"//*[not(@class)]/a/@href\") + lks\n",
    "    # we have to path to get the all links, and can make sure the links are all articles and not ads\n",
    "    lks = {x for x in lks} #set uniq\n",
    "    lks = [str(x) for x in lks]\n",
    "\n",
    "    return [x for x in lks if \"article\" in x]\n",
    "len(article_list(\"https://www.sfchronicle.com/local/\"))"
   ]
  },
  {
   "cell_type": "markdown",
   "metadata": {
    "tags": [
     "exercise"
    ]
   },
   "source": [
    "__Exercise 1.2.__ Write a function that extracts data from a Chronicle article. The function should:\n",
    "\n",
    "* Have a parameter `url` for the URL of the article.\n",
    "\n",
    "* Return a dictionary with keys for:\n",
    "    + `url`: The URL of the article.\n",
    "    + `title`: The title of the article.\n",
    "    + `text`: The complete text of the article.\n",
    "    + `author`: The author's name (if available) or a suitable missing value.\n",
    "    + `date`: The date and time the article was published.\n",
    "    + `date_updated`: The date and time the article was last updated (if available) or a suitable missing value.\n",
    "\n",
    "For example, for [this article](https://www.sfchronicle.com/homeandgarden/article/Gardenlust-looks-at-best-21st-century-13580871.php) your function should return a dictionary with the form:\n",
    "```js\n",
    "{'url': 'https://www.sfchronicle.com/homeandgarden/article/Gardenlust-looks-at-best-21st-century-13580871.php',\n",
    " 'title': '‘Gardenlust’ looks at best 21st century gardens in the world',\n",
    " 'text': 'The book...',\n",
    " 'author': 'Pam Peirce',\n",
    " 'date': '2019-02-01T18:02:33+00:00',\n",
    " 'date_updated': '2019-02-01T18:12:53+00:00'}\n",
    "```\n",
    "The value of the `text` field is omitted here to save space. Your function should return the full text in the `text` field.\n",
    "\n",
    "Hints:\n",
    "\n",
    "* Many parsing packages allow you to delete elements from an HTML document. Deleting elements is one way to avoid extracting unwanted tags.\n",
    "* You can union multiple XPath paths with `|`."
   ]
  },
  {
   "cell_type": "code",
   "execution_count": 41,
   "metadata": {},
   "outputs": [],
   "source": [
    "def isTextEmpty(text):\n",
    "    '''This function is deal with the text if the text is empty'''\n",
    "    if text == '':\n",
    "        return 'None'\n",
    "    else:\n",
    "        return text\n",
    "\n",
    "def article_info(url):\n",
    "    '''This function return the dict of the require information about the url'''\n",
    "    # get basic info from the url\n",
    "    response = requests.get(url)\n",
    "    response.raise_for_status()\n",
    "    html = lx.fromstring(response.text)\n",
    "    html.make_links_absolute(url)\n",
    "\n",
    "    # title information\n",
    "    title = ''.join([x.text_content() for x in html.xpath(\"//*[contains(@class, 'header-title')] | //*//title\")])\n",
    "    # looking for the title\n",
    "\n",
    "    # text information\n",
    "    text = html.xpath(\"//body//section[contains(@class,'body')]//p[not(ancestor::em)] | //div[contains(@class,'article-body')]//p[not(ancestor::em)]\")\n",
    "    text = \"\".join([x.text_content() for x in text])\n",
    "    text = isTextEmpty(text) \n",
    "    \n",
    "    # author information   \n",
    "    author = \"\".join([x.text_content() for x in html.xpath(\"//div[contains(@class, 'header-author-img-time')]//a/span | //div[contains(@class, 'header-author-time h5')]//span[contains(@class, 'header-byline')] | //div[contains(@class,'article-title')]//p[contains(@class,'byline')]\")][0].strip('By'))\n",
    "    author = author.strip(' \\n ')\n",
    "    author = isTextEmpty(author) \n",
    "\n",
    "    # date information\n",
    "    date = \"\".join(html.xpath(\"/*//time[contains(@itemprop,'datePublished')]/@datetime | /*/head/meta[contains(@itemprop,'datePublished')]/@content\"))\n",
    "    '''reference: https://stackoverflow.com/questions/4531995/getting-attribute-using-xpath '''\n",
    "    date = isTextEmpty(date) \n",
    "    \n",
    "    # date_updated \n",
    "    date_updated = \"\".join(html.xpath(\"/*//time[contains(@itemprop,'dateModified')]/@datetime\"))\n",
    "    date_updated = isTextEmpty(date_updated) \n",
    "    # return a dict information\n",
    "    return {\"url\": url, \"title\": title, \"text\": text, \"author\": author, \"date\": date, \"date_updated\":date_updated} \n",
    "\n"
   ]
  },
  {
   "cell_type": "code",
   "execution_count": 42,
   "metadata": {},
   "outputs": [
    {
     "data": {
      "text/plain": [
       "{'url': 'https://www.sfchronicle.com/homeandgarden/article/Gardenlust-looks-at-best-21st-century-13580871.php',\n",
       " 'title': '‘Gardenlust’ looks at best 21st century gardens in the world - SFChronicle.com‘Gardenlust’ looks at best 21st century gardens in the world‘Gardenlust’ looks at best 21st century gardens in the world‘Gardenlust’ looks at best 21st century gardens in...',\n",
       " 'text': 'The book “Gardenlust: A Botanical Tour of the World’s Best New Gardens” by Christopher Woods (Timber Press, 416 pages, $40) shows you gardens from around the globe, including some surprising places such as Oman, Singapore and the island of Nevis in the West Indies, all of them created in the past 20 years. Fifty gardens or designers are featured. The sites are all engaging; some are breathtaking.Woods, the author and major photographer of the book, began his career as a gardener at Kew Gardens in London. He then worked at a number of public gardens in England and the U.S., including 20 years as director and chief designer of Chanticleer Arboretum in Pennsylvania. (I have been to Chanticleer and have seen the Ruins Garden he created there from the stone and slate ruins of the home of the original owner of the property. It’s a spectacular piece of garden art, which includes  the work of Berkeley garden sculptor Marcia Donahue.)Because Woods understands the need for well-planned garden form as well as for horticultural skill and knowledge, he gives us both perspectives in “Gardenlust.” You will learn the names and view the work of forward-looking garden designers the world over. You will also find discussions of certain soils and for important plants in each garden, their common as well as scientific names down to the often all-important cultivar name.I also enjoyed Woods’ explorations of some common themes in gardens of our new century. One of these themes is conservation through cultivation — bringing native plants into gardens to ensure their survival. One of many examples is Pad Te Ke Botanical Garden in Laos, where 250 of that nation’s 485 native orchids are being grown. Another is the Jardín de Salvias in Mar del Plata, Argentina, where a former Buenos Aires professor, Rolando Uría, has initiated a collection of salvia species. (I was particularly taken with a photograph of Salvia foveolata, a tall salvia species with light yellow flowers and dark red sepals.)A second common theme is environmental remediation. One example is the Naples Botanical Garden, in Naples, Fla., where a former shopping complex, garbage dump and parking lot has become a tropical paradise. Or consider Landschaftspark, in Duisburg-Nord, Germany, where the ruins of the former Thyssen smelting plant, which openly used slave labor during World War II,  is being redesigned into a park. Writes Woods: “Healing the wounds of history does not mean the expurgation of the past.” Here, the machinery that was used to create chemical and social toxins decays in place amid places to stroll, dance and play.A third theme is bringing nature into the hearts of our overcrowded cities. In Tokyo, Ichigaya Forest is being planted in open spaces between tall buildings. Here, native species are being allowed to form their usual untidy but wonderful forest mix, interrupted only by sidewalks taken by workers to and from their city jobs. Other urban plantings are on roofs or walls. In Singapore, exuberant plantings perch on concrete platforms several stories up, like shelf fungi on a tree.A fourth trend is a less formal style of gardening in which plantings appear to represent wild habitats, though only a portion of the plants used are truly native. Although a certain amount of reseeding and spreading is allowed, such plantings are nevertheless carefully curated and edited. This trend is also represented by the High Line in New York. (Not shown in this book. See the book “Gardens of the Highline,” Piet Oudolf and Rick Darke, Timber Press, 2017, which I reviewed in this column in June 2018). Woods shows and comments on several such “naturalistic” plantings. But, although the plantings are casual, they do require maintenance. Woods writes that he found the garden created for 2012 Olympics in London Olympic Park in such poor maintenance that “even benign neglect has been neglected.”  Other gardens, such as Junto Farm, a private garden in Hudson Valley, N.Y., and the public Martin Luther King Park in Paris, merit his high praise for both planting and maintenance.Threaded through the entries is much analysis of this trend. Woods calls it “a relaxed interpretation of nature, seeking not to overpower but to cohabit,” and says such plantings can “serve as a bridge between us and what we think of as untamed nature.” Nevertheless, he says, “there should be no pretense that they aren’t artificial.” That is, it should be clear that these gardens are not restorations of meadows and prairies that are truly gone.The book gains value in my eyes by the fact that over half of the gardens are public, and therefore visitable should you travel to where they are. Some are relatively near. For example, the Chihuly garden in Seattle where colored glass art plays against plants, or the Garden of Flowering Fragrance, a Chinese garden at the Huntington Botanical Garden in San Marino (Los Angeles County). Others are farther away, but who knows, life might take you to Sydney to stroll the modern abstract landscapes of the Australian Garden in the Royal Botanic Gardens, or to Said-Ul-Azaib, Delhi, India, to enjoy the contemplative splendor of the Garden of the Five Senses.By Christopher Woods (Timber Press, 416 pages, $40)',\n",
       " 'author': 'Pam Peirce',\n",
       " 'date': '2019-02-01T18:02:33+00:00',\n",
       " 'date_updated': '2019-02-01T18:12:53+00:00'}"
      ]
     },
     "execution_count": 42,
     "metadata": {},
     "output_type": "execute_result"
    }
   ],
   "source": [
    "result = article_info('https://www.sfchronicle.com/homeandgarden/article/Gardenlust-looks-at-best-21st-century-13580871.php')\n",
    "result"
   ]
  },
  {
   "cell_type": "markdown",
   "metadata": {
    "tags": [
     "exercise"
    ]
   },
   "source": [
    "__Exercise 1.3.__ Use your functions from exercises 1.1 and 1.2 to get data frames of articles for the \"Biz+Tech\" category as well as two other categories of your choosing (except for \"Vault: Archive\", \"Podcasts\", and \"In Depth\").\n",
    "\n",
    "Add a column to each that indicates the category, then combine them into one big data frame. Clean up the data, stripping excess whitespace and converting columns to appropriate dtypes.\n",
    "\n",
    "The `text` column of this data frame will be your corpus for natural language processing in exercise 1.4."
   ]
  },
  {
   "cell_type": "code",
   "execution_count": 56,
   "metadata": {},
   "outputs": [
    {
     "data": {
      "text/html": [
       "<div>\n",
       "<style scoped>\n",
       "    .dataframe tbody tr th:only-of-type {\n",
       "        vertical-align: middle;\n",
       "    }\n",
       "\n",
       "    .dataframe tbody tr th {\n",
       "        vertical-align: top;\n",
       "    }\n",
       "\n",
       "    .dataframe thead th {\n",
       "        text-align: right;\n",
       "    }\n",
       "</style>\n",
       "<table border=\"1\" class=\"dataframe\">\n",
       "  <thead>\n",
       "    <tr style=\"text-align: right;\">\n",
       "      <th></th>\n",
       "      <th>author</th>\n",
       "      <th>date</th>\n",
       "      <th>date_updated</th>\n",
       "      <th>text</th>\n",
       "      <th>title</th>\n",
       "      <th>url</th>\n",
       "      <th>Categroy</th>\n",
       "    </tr>\n",
       "  </thead>\n",
       "  <tbody>\n",
       "    <tr>\n",
       "      <th>0</th>\n",
       "      <td>By Joseph Pisani and Alexandra Olson</td>\n",
       "      <td>2019-02-15 03:24:18</td>\n",
       "      <td>2019-02-15 03:25:36</td>\n",
       "      <td>NEW YORK — Amazon abruptly dropped plans Thurs...</td>\n",
       "      <td>Amazon dumps NYC headquarters and its promised...</td>\n",
       "      <td>https://www.sfchronicle.com/business/article/A...</td>\n",
       "      <td>BizTech</td>\n",
       "    </tr>\n",
       "    <tr>\n",
       "      <th>1</th>\n",
       "      <td>Carolyn Said</td>\n",
       "      <td>2018-02-16 14:00:00</td>\n",
       "      <td>NaT</td>\n",
       "      <td>Under the threat of huge penalties, Airbnb, Ho...</td>\n",
       "      <td>SF short-term rentals transformed as Airbnb, o...</td>\n",
       "      <td>https://www.sfchronicle.com/business/article/S...</td>\n",
       "      <td>BizTech</td>\n",
       "    </tr>\n",
       "    <tr>\n",
       "      <th>2</th>\n",
       "      <td>Chronicle Staff and News Services</td>\n",
       "      <td>2019-02-20 00:18:00</td>\n",
       "      <td>NaT</td>\n",
       "      <td>Autonomous techNauto, a transportation company...</td>\n",
       "      <td>Daily Briefing, Feb. 20 - SFChronicle.comDaily...</td>\n",
       "      <td>https://www.sfchronicle.com/business/article/D...</td>\n",
       "      <td>BizTech</td>\n",
       "    </tr>\n",
       "    <tr>\n",
       "      <th>3</th>\n",
       "      <td>By JOE McDONALD, AP Business Writer</td>\n",
       "      <td>2019-02-21 04:22:10</td>\n",
       "      <td>2019-02-21 04:24:15</td>\n",
       "      <td>BEIJING (AP) — Asian stock markets were little...</td>\n",
       "      <td>Asian stocks change little ahead of more US-Ch...</td>\n",
       "      <td>https://www.sfchronicle.com/news/article/US-st...</td>\n",
       "      <td>BizTech</td>\n",
       "    </tr>\n",
       "    <tr>\n",
       "      <th>4</th>\n",
       "      <td>Kathleen Pender</td>\n",
       "      <td>2019-02-16 12:00:00</td>\n",
       "      <td>2019-02-17 05:47:29</td>\n",
       "      <td>Readers had several questions about my recent ...</td>\n",
       "      <td>Answers to readers’ tax questions on college s...</td>\n",
       "      <td>https://www.sfchronicle.com/business/networth/...</td>\n",
       "      <td>BizTech</td>\n",
       "    </tr>\n",
       "  </tbody>\n",
       "</table>\n",
       "</div>"
      ],
      "text/plain": [
       "                                 author                date  \\\n",
       "0  By Joseph Pisani and Alexandra Olson 2019-02-15 03:24:18   \n",
       "1                          Carolyn Said 2018-02-16 14:00:00   \n",
       "2     Chronicle Staff and News Services 2019-02-20 00:18:00   \n",
       "3   By JOE McDONALD, AP Business Writer 2019-02-21 04:22:10   \n",
       "4                       Kathleen Pender 2019-02-16 12:00:00   \n",
       "\n",
       "         date_updated                                               text  \\\n",
       "0 2019-02-15 03:25:36  NEW YORK — Amazon abruptly dropped plans Thurs...   \n",
       "1                 NaT  Under the threat of huge penalties, Airbnb, Ho...   \n",
       "2                 NaT  Autonomous techNauto, a transportation company...   \n",
       "3 2019-02-21 04:24:15  BEIJING (AP) — Asian stock markets were little...   \n",
       "4 2019-02-17 05:47:29  Readers had several questions about my recent ...   \n",
       "\n",
       "                                               title  \\\n",
       "0  Amazon dumps NYC headquarters and its promised...   \n",
       "1  SF short-term rentals transformed as Airbnb, o...   \n",
       "2  Daily Briefing, Feb. 20 - SFChronicle.comDaily...   \n",
       "3  Asian stocks change little ahead of more US-Ch...   \n",
       "4  Answers to readers’ tax questions on college s...   \n",
       "\n",
       "                                                 url Categroy  \n",
       "0  https://www.sfchronicle.com/business/article/A...  BizTech  \n",
       "1  https://www.sfchronicle.com/business/article/S...  BizTech  \n",
       "2  https://www.sfchronicle.com/business/article/D...  BizTech  \n",
       "3  https://www.sfchronicle.com/news/article/US-st...  BizTech  \n",
       "4  https://www.sfchronicle.com/business/networth/...  BizTech  "
      ]
     },
     "execution_count": 56,
     "metadata": {},
     "output_type": "execute_result"
    }
   ],
   "source": [
    "# articles for the \"Biz+Tech\" category\n",
    "BizTech = article_list(\"https://www.sfchronicle.com/business/\") + article_list(\"https://www.sfchronicle.com/local/\") \n",
    "BizTech = [article_info(x) for x in BizTech] \n",
    "# convert to the df\n",
    "BizTech = pd.DataFrame(BizTech)\n",
    "# new col call biztech\n",
    "BizTech['Categroy'] = 'BizTech'\n",
    "# articles for the \"local\" category\n",
    "local = article_list(\"https://www.sfchronicle.com/local/\") \n",
    "local = [article_info(x) for x in local]\n",
    "local = pd.DataFrame(local)\n",
    "local['Categroy'] = 'local'\n",
    "# articles for the \"politics\" category\n",
    "politics = article_list(\"https://www.sfchronicle.com/elections/\")\n",
    "politics = [article_info(x) for x in politics]\n",
    "politics = pd.DataFrame(politics)\n",
    "politics['Categroy'] = 'politics'\n",
    "# make a frame to concate all categories\n",
    "frames = [BizTech, local, politics]\n",
    "result = pd.concat(frames,join='outer',ignore_index=True)\n",
    "\n",
    "# convert str to the time format\n",
    "result.loc[:,'date'] = pd.to_datetime(result.loc[:,'date'],errors = 'coerce')\n",
    "result.loc[:,'date_updated'] = pd.to_datetime(result.loc[:,'date_updated'],errors = 'coerce')\n",
    "\n",
    "result.head()"
   ]
  },
  {
   "cell_type": "markdown",
   "metadata": {
    "tags": [
     "exercise"
    ]
   },
   "source": [
    "__Exercise 1.4.__  What topics has the Chronicle covered recently? How does the category affect the topics? Support your analysis with visualizations.\n",
    "\n",
    "Hints:\n",
    "\n",
    "*   The [nltk book](http://www.nltk.org/book/) may be helpful here.\n",
    "\n",
    "*   This question will be easier to do after we've finished NLP in class."
   ]
  },
  {
   "cell_type": "code",
   "execution_count": 125,
   "metadata": {},
   "outputs": [
    {
     "name": "stderr",
     "output_type": "stream",
     "text": [
      "[nltk_data] Downloading package averaged_perceptron_tagger to\n",
      "[nltk_data]     C:\\Users\\jolie\\AppData\\Roaming\\nltk_data...\n",
      "[nltk_data]   Package averaged_perceptron_tagger is already up-to-\n",
      "[nltk_data]       date!\n",
      "[nltk_data] Downloading package wordnet to\n",
      "[nltk_data]     C:\\Users\\jolie\\AppData\\Roaming\\nltk_data...\n",
      "[nltk_data]   Package wordnet is already up-to-date!\n"
     ]
    },
    {
     "data": {
      "text/plain": [
       "True"
      ]
     },
     "execution_count": 125,
     "metadata": {},
     "output_type": "execute_result"
    }
   ],
   "source": [
    "nltk.download('averaged_perceptron_tagger')\n",
    "nltk.download('wordnet')"
   ]
  },
  {
   "cell_type": "code",
   "execution_count": 144,
   "metadata": {},
   "outputs": [],
   "source": [
    "def Standardizing_Text(text):\n",
    "    '''This function return the standardizing text.'''\n",
    "    #tokenize the text and lowercase\n",
    "    text = nltk.word_tokenize(text) \n",
    "    text = [w.lower() for w in text]\n",
    "\n",
    "    #Lemmatization\n",
    "    lemmatizer = nltk.WordNetLemmatizer()\n",
    "    def wordnet_pos(tag):\n",
    "        \"\"\"Map a Brown POS tag to a WordNet POS tag.\"\"\"\n",
    "\n",
    "        table = {\"N\": wordnet.NOUN, \"V\": wordnet.VERB, \"R\": wordnet.ADV, \"J\": wordnet.ADJ}\n",
    "\n",
    "        # Default to a noun.\n",
    "        return table.get(tag[0], wordnet.NOUN)\n",
    "    text = nltk.pos_tag(text)\n",
    "    return [lemmatizer.lemmatize(w, wordnet_pos(t)) for (w, t) in text]"
   ]
  },
  {
   "cell_type": "code",
   "execution_count": 198,
   "metadata": {},
   "outputs": [],
   "source": [
    "# BizTech\n",
    "BizTech = result.loc[result['Categroy'] == 'BizTech']\n",
    "#subset by categroy and put all text in one paragraph\n",
    "text = ' '.join([x for x in BizTech['text']])\n",
    "# apply standradizing text to the text\n",
    "text = Standardizing_Text(text)\n",
    "\n",
    "#stop words\n",
    "stopwords = nltk.corpus.stopwords.words(\"english\") \n",
    "stopwords = stopwords + ['said',\"the\",'also','new','one','would','could','make','say','get','san','year','city','francisco','go']\n",
    "text = [w for w in text if w not in stopwords]\n",
    "\n",
    "# find the frequency from the text \n",
    "BizTech_fq = nltk.FreqDist(w for w in text if w.isalnum())\n",
    "# choice the first 25 most common \n",
    "BizTech_text = BizTech_fq.most_common(25)\n"
   ]
  },
  {
   "cell_type": "code",
   "execution_count": 205,
   "metadata": {},
   "outputs": [],
   "source": [
    "%%capture\n",
    "\n",
    "# Create the Figure and plot.\n",
    "fig = plt.figure(figsize = (12, 8))\n",
    "BizTech_fq.plot(25,cumulative = False)\n",
    "\n",
    "# Get the Axes object from the Figure.\n",
    "ax = fig.get_axes()[0]\n",
    "\n",
    "# Customize as with any other matplotlib Axes\n",
    "ax.set_title(\"Word Frequencies\")\n",
    "ax.set_xlabel(\"Words\")\n",
    "ax.set_ylim([0,300])"
   ]
  },
  {
   "cell_type": "code",
   "execution_count": 204,
   "metadata": {},
   "outputs": [
    {
     "data": {
      "image/png": "[encoded data removed]",
      "text/plain": [
       "<Figure size 864x576 with 1 Axes>"
      ]
     },
     "execution_count": 204,
     "metadata": {},
     "output_type": "execute_result"
    }
   ],
   "source": [
    "fig"
   ]
  },
  {
   "cell_type": "markdown",
   "metadata": {},
   "source": [
    "From the business topic, we can see there more mention the words like san francisco, percentage, pg&e and also tax. There may be something happen related with pg&e in san francisco or california, and also talking about tax which may because of the date is close to the tax season. "
   ]
  },
  {
   "cell_type": "code",
   "execution_count": 183,
   "metadata": {},
   "outputs": [
    {
     "data": {
      "text/plain": [
       "[('san', 261),\n",
       " ('francisco', 217),\n",
       " ('year', 216),\n",
       " ('people', 166),\n",
       " ('home', 153),\n",
       " ('help', 148),\n",
       " ('work', 126),\n",
       " ('fire', 112),\n",
       " ('family', 110),\n",
       " ('hospital', 110),\n",
       " ('want', 105),\n",
       " ('new', 103),\n",
       " ('house', 101),\n",
       " ('time', 99),\n",
       " ('pay', 94),\n",
       " ('need', 93),\n",
       " ('fund', 88),\n",
       " ('two', 86),\n",
       " ('month', 84),\n",
       " ('back', 83),\n",
       " ('call', 78),\n",
       " ('leave', 78),\n",
       " ('county', 77),\n",
       " ('police', 77),\n",
       " ('chronicle', 76)]"
      ]
     },
     "execution_count": 183,
     "metadata": {},
     "output_type": "execute_result"
    }
   ],
   "source": [
    "#local\n",
    "Local = result.loc[result['Categroy'] == 'local']\n",
    "#subset by categroy and put all text in one paragraph\n",
    "text = ' '.join([x for x in local['text']])\n",
    "# apply function on the text\n",
    "text = Standardizing_Text(text)\n",
    "\n",
    "#stop words\n",
    "stopwords = nltk.corpus.stopwords.words(\"english\") \n",
    "stopwords = stopwords + ['said','one','like','would','could','also','get','even','say','go','to','day','city','take','take','make']\n",
    "text = [w for w in text if w not in stopwords]\n",
    "\n",
    "# find freq words\n",
    "local_fq = nltk.FreqDist(w for w in text if w.isalnum())\n",
    "local_text = local_fq.most_common(25)\n",
    "\n",
    "local_text"
   ]
  },
  {
   "cell_type": "code",
   "execution_count": 207,
   "metadata": {},
   "outputs": [],
   "source": [
    "%%capture\n",
    "\n",
    "# Create the Figure and plot.\n",
    "fig = plt.figure(figsize = (12, 8))\n",
    "local_fq.plot(25,cumulative = False)\n",
    "\n",
    "# Get the Axes object from the Figure.\n",
    "ax = fig.get_axes()[0]\n",
    "\n",
    "# Customize as with any other matplotlib Axes\n",
    "ax.set_title(\"Word Frequencies\")\n",
    "ax.set_xlabel(\"Words\")\n",
    "ax.set_ylim([0,300])\n"
   ]
  },
  {
   "cell_type": "code",
   "execution_count": 208,
   "metadata": {},
   "outputs": [
    {
     "data": {
      "image/png": "[encoded data removed]",
      "text/plain": [
       "<Figure size 864x576 with 1 Axes>"
      ]
     },
     "execution_count": 208,
     "metadata": {},
     "output_type": "execute_result"
    }
   ],
   "source": [
    "fig"
   ]
  },
  {
   "cell_type": "markdown",
   "metadata": {},
   "source": [
    "From the local topic, we can see the words like work, home, fire, pay, family those word more happen in our daily conversition with friends. As well as san francisco, that means the topic more focus on the sf which close with us. "
   ]
  },
  {
   "cell_type": "code",
   "execution_count": 209,
   "metadata": {},
   "outputs": [
    {
     "data": {
      "text/plain": [
       "[('state', 587),\n",
       " ('california', 463),\n",
       " ('year', 386),\n",
       " ('newsom', 382),\n",
       " ('san', 363),\n",
       " ('trump', 359),\n",
       " ('francisco', 303),\n",
       " ('democrat', 285),\n",
       " ('people', 285),\n",
       " ('new', 282),\n",
       " ('president', 272),\n",
       " ('work', 259),\n",
       " ('republican', 257),\n",
       " ('million', 240),\n",
       " ('brown', 233),\n",
       " ('governor', 227),\n",
       " ('house', 222),\n",
       " ('money', 218),\n",
       " ('campaign', 217),\n",
       " ('democratic', 212),\n",
       " ('vote', 212),\n",
       " ('time', 201),\n",
       " ('percent', 201),\n",
       " ('harris', 189),\n",
       " ('first', 185)]"
      ]
     },
     "execution_count": 209,
     "metadata": {},
     "output_type": "execute_result"
    }
   ],
   "source": [
    "#politics\n",
    "politics = result.loc[result['Categroy'] == 'politics']\n",
    "#subset by categroy and put all text in one paragraph\n",
    "text = ' '.join([x for x in politics['text']])\n",
    "# apply the function on text\n",
    "text = Standardizing_Text(text)\n",
    "\n",
    "#stop words\n",
    "stopwords = nltk.corpus.stopwords.words(\"english\") \n",
    "stopwords = stopwords + ['said','one','like','would','could','also','get','even','say','go','to','day','city','take','take','make','two']\n",
    "text = [w for w in text if w not in stopwords]\n",
    "\n",
    "# find the freq words\n",
    "politics_fq = nltk.FreqDist(w for w in text if w.isalnum())\n",
    "politics_text = politics_fq.most_common(25)\n",
    "\n",
    "politics_text"
   ]
  },
  {
   "cell_type": "code",
   "execution_count": 214,
   "metadata": {},
   "outputs": [],
   "source": [
    "%%capture\n",
    "\n",
    "# Create the Figure and plot.\n",
    "fig = plt.figure(figsize = (12, 8))\n",
    "politics_fq.plot(25,cumulative = False)\n",
    "\n",
    "# Get the Axes object from the Figure.\n",
    "ax = fig.get_axes()[0]\n",
    "\n",
    "# Customize as with any other matplotlib Axes\n",
    "ax.set_title(\"Word Frequencies\")\n",
    "ax.set_xlabel(\"Words\")\n",
    "ax.set_ylim([0,650])"
   ]
  },
  {
   "cell_type": "code",
   "execution_count": 215,
   "metadata": {},
   "outputs": [
    {
     "data": {
      "image/png": "[encoded data removed]",
      "text/plain": [
       "<Figure size 864x576 with 1 Axes>"
      ]
     },
     "execution_count": 215,
     "metadata": {},
     "output_type": "execute_result"
    }
   ],
   "source": [
    "fig"
   ]
  },
  {
   "cell_type": "markdown",
   "metadata": {},
   "source": [
    "For the politics topic we may see some words more like trump, state, democratic, republican, president, thry may talking about the president trump or parties stuff."
   ]
  },
  {
   "cell_type": "code",
   "execution_count": 216,
   "metadata": {},
   "outputs": [
    {
     "data": {
      "text/plain": [
       "[('san', 933),\n",
       " ('year', 866),\n",
       " ('city', 818),\n",
       " ('francisco', 781),\n",
       " ('state', 780),\n",
       " ('one', 646),\n",
       " ('people', 641),\n",
       " ('california', 610),\n",
       " ('work', 533),\n",
       " ('help', 450),\n",
       " ('house', 429),\n",
       " ('time', 422),\n",
       " ('trump', 414),\n",
       " ('percent', 405),\n",
       " ('newsom', 403),\n",
       " ('home', 401),\n",
       " ('million', 384),\n",
       " ('money', 370),\n",
       " ('need', 364),\n",
       " ('president', 333),\n",
       " ('pay', 332),\n",
       " ('family', 325),\n",
       " ('democrat', 319),\n",
       " ('housing', 312),\n",
       " ('include', 310)]"
      ]
     },
     "execution_count": 216,
     "metadata": {},
     "output_type": "execute_result"
    }
   ],
   "source": [
    "# comb all text\n",
    "all_text = ' '.join([x for x in result['text']])\n",
    "len(all_text)\n",
    "\n",
    "# use Standardizing_Text() function to get all text in 3 categories \n",
    "all_text = Standardizing_Text(all_text)\n",
    "\n",
    "#stop words\n",
    "stopwords = nltk.corpus.stopwords.words(\"english\") \n",
    "stopwords = stopwords + ['said',\"the\",'also','new','call','come','would','could','make','say','get','go','take','like','want','two','first','think']\n",
    "all_text = [w for w in all_text if w not in stopwords]\n",
    "\n",
    "# find freq words\n",
    "fq = nltk.FreqDist(w for w in all_text if w.isalnum())\n",
    "all_text = fq.most_common(25)\n",
    "all_text"
   ]
  },
  {
   "cell_type": "code",
   "execution_count": 222,
   "metadata": {},
   "outputs": [],
   "source": [
    "%%capture\n",
    "\n",
    "# Create the Figure and plot.\n",
    "fig = plt.figure(figsize = (12, 8))\n",
    "fq.plot(25,cumulative = False)\n",
    "\n",
    "# Get the Axes object from the Figure.\n",
    "ax = fig.get_axes()[0]\n",
    "\n",
    "# Customize as with any other matplotlib Axes\n",
    "ax.set_title(\"Word Frequencies\")\n",
    "ax.set_xlabel(\"Words\")\n",
    "ax.set_ylim([0,1000])"
   ]
  },
  {
   "cell_type": "code",
   "execution_count": 223,
   "metadata": {},
   "outputs": [
    {
     "data": {
      "image/png": "[encoded data removed]",
      "text/plain": [
       "<Figure size 864x576 with 1 Axes>"
      ]
     },
     "execution_count": 223,
     "metadata": {},
     "output_type": "execute_result"
    }
   ],
   "source": [
    "fig"
   ]
  },
  {
   "cell_type": "markdown",
   "metadata": {},
   "source": [
    "From the word frequency of all text in 3 categories, we can see the most common words are \"state\",\"san francisco\",\"california\" those more represent the location which means the topic more locally that can easly connect with local people in California or SF. And also have the words like democrat, trump, work, house, those words more represent the thing about politics. the words like percentage, money is more close the busniess topic. "
   ]
  }
 ],
 "metadata": {
  "kernelspec": {
   "display_name": "Python 3",
   "language": "python",
   "name": "python3"
  },
  "language_info": {
   "codemirror_mode": {
    "name": "ipython",
    "version": 3
   },
   "file_extension": ".py",
   "mimetype": "text/x-python",
   "name": "python",
   "nbconvert_exporter": "python",
   "pygments_lexer": "ipython3",
   "version": "3.7.1"
  }
 },
 "nbformat": 4,
 "nbformat_minor": 2
}
