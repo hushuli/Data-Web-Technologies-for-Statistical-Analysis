{
 "cells": [
  {
   "cell_type": "markdown",
   "metadata": {},
   "source": [
    "# STA 141B Assignment 1\n",
    "\n",
    "Due __Jan 17, 2019__ by 11:59pm. Submit by editing this file, committing the changes with git, and then pushing to your private GitHub repo for the assignment. This assignment is intentionally short so that you can submit a little bit early and have time to work out any issues with git!\n",
    "\n",
    "Please do not rename this file or delete the exercise cells, because it will interfere with our grading tools.\n",
    "\n",
    "Put your answers in new cells after each exercise. You can make as many new cells as you like. Use code cells for code and Markdown cells for text. Answer all questions with complete sentences.\n",
    "\n",
    "This assignment will be graded for correctness.\n",
    "\n",
    "The purpose of this assignment is to practice programming fundamentals: writing functions, if-statements, and loops. We'll get to more interesting and data science-y exercises in the next assignment."
   ]
  },
  {
   "cell_type": "markdown",
   "metadata": {
    "tags": [
     "exercise"
    ]
   },
   "source": [
    "## Warm Ups\n",
    "\n",
    "__Exercise 1.1 (10 points).__ In lecture, we saw that Python's lists have reference semantics. Give a similar example that shows Python's dictionaries have reference semantics. Make sure to explain your example."
   ]
  },
  {
   "cell_type": "code",
   "execution_count": 1,
   "metadata": {},
   "outputs": [
    {
     "name": "stdout",
     "output_type": "stream",
     "text": [
      "{'get A': 1, 'work harder': 100}\n"
     ]
    }
   ],
   "source": [
    "x = {\"get A\":1, \"work harder\":2}\n",
    "y = x\n",
    "y[\"work harder\"] = 100  #change x \n",
    "\n",
    "print(x)"
   ]
  },
  {
   "cell_type": "markdown",
   "metadata": {},
   "source": [
    "# 1.1 Conclusion:\n",
    "In x, we assign first key as \"get A\" and value as 1, and second key as \"work harder\", the value as 2. According the feature of reference semantics, when we assign y = x, their only one doctionaries in the momery and both refer to the same thing. \n",
    "\n",
    "As a result, change one value in doctainaries, the other one also changed. "
   ]
  },
  {
   "cell_type": "markdown",
   "metadata": {
    "tags": [
     "exercise"
    ]
   },
   "source": [
    "__Exercise 1.2 (10 points).__ Are strings mutable? Give an example and explain your reasoning. _Hint: It's a good idea to confirm your answer by checking the Python 3 documentation._\n",
    "\n",
    "Next, read [the documentation](https://docs.python.org/3/library/stdtypes.html#str.replace) for the string `.replace()` method. Give an example of using the method and explain how it fits in with your understanding of whether or not strings are mutable."
   ]
  },
  {
   "cell_type": "code",
   "execution_count": 9,
   "metadata": {},
   "outputs": [
    {
     "ename": "TypeError",
     "evalue": "'str' object does not support item assignment",
     "output_type": "error",
     "traceback": [
      "\u001b[1;31m---------------------------------------------------------------------------\u001b[0m",
      "\u001b[1;31mTypeError\u001b[0m                                 Traceback (most recent call last)",
      "\u001b[1;32m<ipython-input-9-1b43bf511537>\u001b[0m in \u001b[0;36m<module>\u001b[1;34m\u001b[0m\n\u001b[0;32m      1\u001b[0m \u001b[0mstring\u001b[0m \u001b[1;33m=\u001b[0m \u001b[1;34m\"Tomorrow is another day\"\u001b[0m\u001b[1;33m\u001b[0m\u001b[1;33m\u001b[0m\u001b[0m\n\u001b[1;32m----> 2\u001b[1;33m \u001b[0mstring\u001b[0m\u001b[1;33m[\u001b[0m\u001b[1;36m2\u001b[0m\u001b[1;33m]\u001b[0m \u001b[1;33m=\u001b[0m \u001b[1;34m\"p\"\u001b[0m \u001b[1;31m# # this is an error\u001b[0m\u001b[1;33m\u001b[0m\u001b[1;33m\u001b[0m\u001b[0m\n\u001b[0m\u001b[0;32m      3\u001b[0m \u001b[0mprint\u001b[0m\u001b[1;33m(\u001b[0m\u001b[0mstring\u001b[0m\u001b[1;33m)\u001b[0m\u001b[1;33m\u001b[0m\u001b[1;33m\u001b[0m\u001b[0m\n",
      "\u001b[1;31mTypeError\u001b[0m: 'str' object does not support item assignment"
     ]
    }
   ],
   "source": [
    "string = \"Tomorrow is another day\"\n",
    "string[2] = \"p\" # # this is an error\n",
    "print(string) "
   ]
  },
  {
   "cell_type": "code",
   "execution_count": 10,
   "metadata": {},
   "outputs": [
    {
     "name": "stdout",
     "output_type": "stream",
     "text": [
      "Tpmprrpw is anpther day\n"
     ]
    }
   ],
   "source": [
    "# replace\n",
    "print(string.replace(\"o\",\"p\"))"
   ]
  },
  {
   "cell_type": "markdown",
   "metadata": {},
   "source": [
    "# Conclusion:\n",
    "String is immutable because when we creat a string, we could not add or delete elements or change the strings elements order,etc. However, the .replace() can work because it just substitute the element but not change the strings structure."
   ]
  },
  {
   "cell_type": "markdown",
   "metadata": {
    "tags": [
     "exercise"
    ]
   },
   "source": [
    "## Writing Functions\n",
    "\n",
    "__Exercise 1.3 (10 points).__ Write a function `mean` that takes a list of numbers as input and returns their mean as output. Test your function on at least two examples."
   ]
  },
  {
   "cell_type": "code",
   "execution_count": 12,
   "metadata": {
    "tags": [
     "mean"
    ]
   },
   "outputs": [],
   "source": [
    "# the function for the mean\n",
    "def mean_function(L):\n",
    "    '''The is mean function which will return the mean by given a list'''\n",
    "    return sum(L)/len(L) # return the sum of the list divided lengh of the list\n"
   ]
  },
  {
   "cell_type": "code",
   "execution_count": 15,
   "metadata": {
    "tags": [
     "examples"
    ]
   },
   "outputs": [
    {
     "name": "stdout",
     "output_type": "stream",
     "text": [
      "3.7142857142857144\n",
      "30.48\n"
     ]
    }
   ],
   "source": [
    "# example 1\n",
    "L1=(7,3,4,3,2,7,0)\n",
    "#example 2\n",
    "L2 = (1,3,3.4,55,90)\n",
    "\n",
    "print(mean_function(L1))\n",
    "print(mean_function(L2))"
   ]
  },
  {
   "cell_type": "markdown",
   "metadata": {
    "tags": [
     "exercise"
    ]
   },
   "source": [
    "__Exercise 1.4 (10 points).__ For the function you wrote in Exercise 1.3, what happens if the input list is empty or contains non-numeric elements? Create a new version of your function called `better_mean` that returns `None` when either of these unusual cases occur.\n",
    "\n",
    "_Hint: A similar problem is discussed in [Section 6.8](http://greenteapress.com/thinkpython2/html/thinkpython2007.html#sec77) of Think Python._"
   ]
  },
  {
   "cell_type": "code",
   "execution_count": 17,
   "metadata": {
    "tags": [
     "better",
     "mean"
    ]
   },
   "outputs": [],
   "source": [
    "# This is the function that help to detect the empty and non-numeric input\n",
    "def better_mean(l):\n",
    "    '''This function can return the mean of a list but it still can handle the empty list and non-numeric list'''\n",
    "    if len(l) == 0: # empty list\n",
    "        print('The list is empty')\n",
    "        return None \n",
    "    tol = 0  \n",
    "    for x in l:\n",
    "        if type(x) == int: \n",
    "            tol = tol+x  # tol+=x\n",
    "        else:  # non- numeric element in the list, besides the numeric will return None\n",
    "            print('The list contains non-numeric')\n",
    "            return None\n",
    "    return tol/len(l) # otherwise return the mean"
   ]
  },
  {
   "cell_type": "code",
   "execution_count": 18,
   "metadata": {
    "tags": [
     "test"
    ]
   },
   "outputs": [
    {
     "name": "stdout",
     "output_type": "stream",
     "text": [
      "The list is empty\n"
     ]
    }
   ],
   "source": [
    "#test for the empty list\n",
    "empty =[ ] # empty list\n",
    "result1 = better_mean(empty) # apply function\n",
    "result1 # get none"
   ]
  },
  {
   "cell_type": "code",
   "execution_count": 20,
   "metadata": {
    "tags": [
     "non-numeric"
    ]
   },
   "outputs": [
    {
     "name": "stdout",
     "output_type": "stream",
     "text": [
      "The list contains non-numeric\n"
     ]
    }
   ],
   "source": [
    "#test for the non-numeric input\n",
    "num = ['string',3] # string in the list\n",
    "result2 = better_mean(num) # apply function\n",
    "result2"
   ]
  },
  {
   "cell_type": "markdown",
   "metadata": {
    "tags": [
     "exercise"
    ]
   },
   "source": [
    "__Exercise 1.5 (10 points).__ Read [Section 4.9](http://greenteapress.com/thinkpython2/html/thinkpython2005.html#sec50) of Think Python. Create a new version of your function from Exercise 1.4 called `best_mean` that includes a docstring explaining how to use the function. Give an example to show that your docstring works with Python's built-in help system."
   ]
  },
  {
   "cell_type": "code",
   "execution_count": 21,
   "metadata": {
    "tags": [
     "docstring"
    ]
   },
   "outputs": [],
   "source": [
    "def best_mean(l):\n",
    "    '''This function can help to detect the empty and non-numeric input\n",
    "    \n",
    "    input a list\n",
    "    If it is empty, it wil return none\n",
    "    if the list is non-numeric, it will also return none'''\n",
    "    \n",
    "    if len(l) == 0:\n",
    "        print('The list is empty')\n",
    "        return None\n",
    "    tol = 0  \n",
    "    for x in l:\n",
    "        if type(x) == int:\n",
    "            tol = tol+x \n",
    "        else:\n",
    "            print('The list contains non-numeric')\n",
    "            return None\n",
    "    return tol/len(l)"
   ]
  },
  {
   "cell_type": "code",
   "execution_count": 22,
   "metadata": {
    "tags": [
     "test",
     "docstring"
    ]
   },
   "outputs": [
    {
     "name": "stdout",
     "output_type": "stream",
     "text": [
      "This function can help to detect the empty and non-numeric input\n",
      "    \n",
      "    input a list\n",
      "    If it is empty, it wil return none\n",
      "    if the list is non-numeric, it will also return none\n"
     ]
    }
   ],
   "source": [
    "print (best_mean.__doc__)"
   ]
  },
  {
   "cell_type": "markdown",
   "metadata": {
    "tags": [
     "exercise"
    ]
   },
   "source": [
    "__Exercise 1.6 (10 points).__ Write a function `median` that takes a list of numbers as input and returns their median as output. Document your function with a docstring. Test your function on at least two examples."
   ]
  },
  {
   "cell_type": "code",
   "execution_count": 26,
   "metadata": {
    "tags": [
     "median"
    ]
   },
   "outputs": [],
   "source": [
    "def median(l):\n",
    "    '''the function is for calculate the median\n",
    "    \n",
    "    input a list of number, we first to sort the number\n",
    "    if the number in the list is even number, it will return to a number which is average of two number in middle\n",
    "    if it is single, we chose the middle number'''\n",
    "    \n",
    "    if len(l) % 2 == 0: # if the list lengh is even, we sort the numbers\n",
    "        x = sorted(l)\n",
    "        return (x[(len(x)//2)] + x[(len(x)//2)-1]) / 2.0 #return middle number\n",
    "    elif len(l) % 2 > 0: #if the list lengh is odd, we sort the number\n",
    "        x = sorted(l)\n",
    "        return x[len(x)//2] # rertun the number by divided 2\n",
    "    \n",
    "#reference:https://stackoverflow.com/questions/24101524/finding-median-of-list-in-python"
   ]
  },
  {
   "cell_type": "code",
   "execution_count": 29,
   "metadata": {
    "tags": [
     "test"
    ]
   },
   "outputs": [
    {
     "name": "stdout",
     "output_type": "stream",
     "text": [
      "4.5\n",
      "13\n"
     ]
    }
   ],
   "source": [
    "# test if it is even number\n",
    "l1 = [1,5,4,6,5,3]\n",
    "# test if it is odd number\n",
    "l2 = [1,92,5,13,54]\n",
    "\n",
    "print(median(l1))\n",
    "print(median(l2))\n"
   ]
  },
  {
   "cell_type": "markdown",
   "metadata": {
    "tags": [
     "conclusion"
    ]
   },
   "source": [
    "\n",
    "sorted() returns a new sorted list, leaving the original list unaffected. list.sort() sorts the list in-place, mutating the list indices, and returns None (like all in-place operations).\n",
    "\n",
    "sorted() works on any iterable, not just lists. Strings, tuples, dictionaries (you'll get the keys), generators, etc., returning a list containing all elements, sorted.\n",
    "\n",
    "Use list.sort() when you want to mutate the list, sorted() when you want a new sorted object back. Use sorted() when you want to sort something that is an iterable, not a list yet.\n",
    "\n",
    "For lists, list.sort() is faster than sorted() because it doesn't have to create a copy. For any other iterable, you have no choice.\n",
    "\n",
    "No, you cannot retrieve the original positions. Once you called list.sort() the original order is gone."
   ]
  },
  {
   "cell_type": "markdown",
   "metadata": {
    "tags": [
     "exercise"
    ]
   },
   "source": [
    "## Finding Exponential Roots\n",
    "\n",
    "The Newton-Raphson algorithm is an algorithm for finding the zeroes of a mathematical function. We can use the Newton-Raphson algorithm to find zeroes of the function\n",
    "\n",
    "$$\n",
    "f(x) = x^p - c\n",
    "$$\n",
    "\n",
    "where $p$ and $c$ are constants. For example, if we choose $p = 2$ and $c = 5$, the Newton-Raphson algorithm finds solutions to\n",
    "\n",
    "$$\n",
    "0 = x^2 - 5\n",
    "$$\n",
    "\n",
    "In other words, we can use the algorithm to find square roots. By changing $p$, we can also find other kinds of exponential roots.\n",
    "\n",
    "\n",
    "The algorithm works by starting from an initial guess $x_0$ and then iteratively evaluating\n",
    "\n",
    "$$\n",
    "x_{n+1} = x_n - \\frac{f(x_n)}{f'(x_n)}\n",
    "$$\n",
    "\n",
    "for $n = 0, 1, 2, \\dots, N$ until reaching a result $X_{N+1}$ with acceptable accuracy. The initial guess does not need to be an excellent guess, but can affect which zero is found.\n",
    "\n",
    "For our specific function $f$, note that $f'(x) = px^{p-1}$.\n",
    "\n",
    "__Exercise 1.7 (20 points).__ Write a function `root` that uses the Newton-Raphson algorithm to compute one of the $p$-th roots for a constant $c$. Your function does not need to find complex roots, only real roots. Your function should have arguments\n",
    "\n",
    "* `c`, the constant\n",
    "* `p`, the power\n",
    "* `x0`, the initial guess\n",
    "* `N`, the maximum number of iterations\n",
    "\n",
    "Test your function for $c = 2$, $p = 2$, $N = 100$. Try different values of $x_0$. Can you find initial guesses to get both roots? Explain what happens when the initial guess is $x_0 = 0$."
   ]
  },
  {
   "cell_type": "code",
   "execution_count": 31,
   "metadata": {
    "tags": [
     "root",
     "function"
    ]
   },
   "outputs": [],
   "source": [
    "def root(c, p, X0, N):\n",
    "    x = X0\n",
    "    for i in range(N):\n",
    "        x = x - ((x ** p)- c )/ (p*(x ** (p-1)))\n",
    "    return x"
   ]
  },
  {
   "cell_type": "code",
   "execution_count": 35,
   "metadata": {
    "tags": [
     "test"
    ]
   },
   "outputs": [
    {
     "name": "stdout",
     "output_type": "stream",
     "text": [
      "1.414213562373095\n",
      "1.4142135623730951\n"
     ]
    }
   ],
   "source": [
    "#test root function with x0 = 2 and 4\n",
    "print(root(2, 2, 2, 100)) # x0 =2\n",
    "print(root(2, 2, 4, 100)) # x0 = 4"
   ]
  },
  {
   "cell_type": "code",
   "execution_count": 39,
   "metadata": {
    "tags": [
     "test"
    ]
   },
   "outputs": [
    {
     "ename": "ZeroDivisionError",
     "evalue": "division by zero",
     "output_type": "error",
     "traceback": [
      "\u001b[1;31m---------------------------------------------------------------------------\u001b[0m",
      "\u001b[1;31mZeroDivisionError\u001b[0m                         Traceback (most recent call last)",
      "\u001b[1;32m<ipython-input-39-3263f9181f47>\u001b[0m in \u001b[0;36m<module>\u001b[1;34m\u001b[0m\n\u001b[1;32m----> 1\u001b[1;33m \u001b[0mprint\u001b[0m\u001b[1;33m(\u001b[0m\u001b[0mroot\u001b[0m\u001b[1;33m(\u001b[0m\u001b[1;36m2\u001b[0m\u001b[1;33m,\u001b[0m \u001b[1;36m2\u001b[0m\u001b[1;33m,\u001b[0m \u001b[1;36m0\u001b[0m\u001b[1;33m,\u001b[0m \u001b[1;36m100\u001b[0m\u001b[1;33m)\u001b[0m\u001b[1;33m)\u001b[0m \u001b[1;31m# x0 = 0\u001b[0m\u001b[1;33m\u001b[0m\u001b[1;33m\u001b[0m\u001b[0m\n\u001b[0m\u001b[0;32m      2\u001b[0m \u001b[1;31m# X0 in the function will cause the error.\u001b[0m\u001b[1;33m\u001b[0m\u001b[1;33m\u001b[0m\u001b[1;33m\u001b[0m\u001b[0m\n",
      "\u001b[1;32m<ipython-input-31-9f3c03955845>\u001b[0m in \u001b[0;36mroot\u001b[1;34m(c, p, X0, N)\u001b[0m\n\u001b[0;32m      2\u001b[0m     \u001b[0mx\u001b[0m \u001b[1;33m=\u001b[0m \u001b[0mX0\u001b[0m\u001b[1;33m\u001b[0m\u001b[1;33m\u001b[0m\u001b[0m\n\u001b[0;32m      3\u001b[0m     \u001b[1;32mfor\u001b[0m \u001b[0mi\u001b[0m \u001b[1;32min\u001b[0m \u001b[0mrange\u001b[0m\u001b[1;33m(\u001b[0m\u001b[0mN\u001b[0m\u001b[1;33m)\u001b[0m\u001b[1;33m:\u001b[0m\u001b[1;33m\u001b[0m\u001b[1;33m\u001b[0m\u001b[0m\n\u001b[1;32m----> 4\u001b[1;33m         \u001b[0mx\u001b[0m \u001b[1;33m=\u001b[0m \u001b[0mx\u001b[0m \u001b[1;33m-\u001b[0m \u001b[1;33m(\u001b[0m\u001b[1;33m(\u001b[0m\u001b[0mx\u001b[0m \u001b[1;33m**\u001b[0m \u001b[0mp\u001b[0m\u001b[1;33m)\u001b[0m\u001b[1;33m-\u001b[0m \u001b[0mc\u001b[0m \u001b[1;33m)\u001b[0m\u001b[1;33m/\u001b[0m \u001b[1;33m(\u001b[0m\u001b[0mp\u001b[0m\u001b[1;33m*\u001b[0m\u001b[1;33m(\u001b[0m\u001b[0mx\u001b[0m \u001b[1;33m**\u001b[0m \u001b[1;33m(\u001b[0m\u001b[0mp\u001b[0m\u001b[1;33m-\u001b[0m\u001b[1;36m1\u001b[0m\u001b[1;33m)\u001b[0m\u001b[1;33m)\u001b[0m\u001b[1;33m)\u001b[0m\u001b[1;33m\u001b[0m\u001b[1;33m\u001b[0m\u001b[0m\n\u001b[0m\u001b[0;32m      5\u001b[0m     \u001b[1;32mreturn\u001b[0m \u001b[0mx\u001b[0m\u001b[1;33m\u001b[0m\u001b[1;33m\u001b[0m\u001b[0m\n",
      "\u001b[1;31mZeroDivisionError\u001b[0m: division by zero"
     ]
    }
   ],
   "source": [
    "print(root(2, 2, 0, 100)) # x0 = 0\n",
    "# X0 in the function will cause the error."
   ]
  },
  {
   "cell_type": "markdown",
   "metadata": {
    "tags": [
     "exercise"
    ]
   },
   "source": [
    "__Exercise 1.8 (20 points).__ Read the Python documentation for the string `.format()` method (see [here](https://docs.python.org/3/library/stdtypes.html#str.format)). Create a new version of your function from Exercise 1.7 called `root_print` that neatly prints the iteration number and estimate for each iteration up to $N$.\n",
    "\n",
    "Test your function for $c = 7$, $p = 3$, $x_0 = 2$, $N = 50$. About how many iterations does it take for the first 3 digits to stabilize at the correct values?"
   ]
  },
  {
   "cell_type": "code",
   "execution_count": 47,
   "metadata": {
    "tags": [
     "root",
     "print"
    ]
   },
   "outputs": [],
   "source": [
    "def root_print(c, p, X0, N):\n",
    "    x = X0\n",
    "    for i in range(N):\n",
    "        x = x - ((x ** p)- c )/(p*(x ** (p-1)))\n",
    "        print(\"The iteration number {} are {}\".format(i,x))\n",
    "    return x"
   ]
  },
  {
   "cell_type": "code",
   "execution_count": 50,
   "metadata": {
    "tags": [
     "test"
    ]
   },
   "outputs": [
    {
     "name": "stdout",
     "output_type": "stream",
     "text": [
      "The iteration number 0 are 1.9166666666666667\n",
      "The iteration number 1 are 1.9129384583070783\n",
      "The iteration number 2 are 1.9129311828000604\n",
      "The iteration number 3 are 1.9129311827723892\n",
      "The iteration number 4 are 1.9129311827723892\n",
      "The iteration number 5 are 1.9129311827723892\n",
      "The iteration number 6 are 1.9129311827723892\n",
      "The iteration number 7 are 1.9129311827723892\n",
      "The iteration number 8 are 1.9129311827723892\n",
      "The iteration number 9 are 1.9129311827723892\n",
      "The iteration number 10 are 1.9129311827723892\n",
      "The iteration number 11 are 1.9129311827723892\n",
      "The iteration number 12 are 1.9129311827723892\n",
      "The iteration number 13 are 1.9129311827723892\n",
      "The iteration number 14 are 1.9129311827723892\n",
      "The iteration number 15 are 1.9129311827723892\n",
      "The iteration number 16 are 1.9129311827723892\n",
      "The iteration number 17 are 1.9129311827723892\n",
      "The iteration number 18 are 1.9129311827723892\n",
      "The iteration number 19 are 1.9129311827723892\n",
      "The iteration number 20 are 1.9129311827723892\n",
      "The iteration number 21 are 1.9129311827723892\n",
      "The iteration number 22 are 1.9129311827723892\n",
      "The iteration number 23 are 1.9129311827723892\n",
      "The iteration number 24 are 1.9129311827723892\n",
      "The iteration number 25 are 1.9129311827723892\n",
      "The iteration number 26 are 1.9129311827723892\n",
      "The iteration number 27 are 1.9129311827723892\n",
      "The iteration number 28 are 1.9129311827723892\n",
      "The iteration number 29 are 1.9129311827723892\n",
      "The iteration number 30 are 1.9129311827723892\n",
      "The iteration number 31 are 1.9129311827723892\n",
      "The iteration number 32 are 1.9129311827723892\n",
      "The iteration number 33 are 1.9129311827723892\n",
      "The iteration number 34 are 1.9129311827723892\n",
      "The iteration number 35 are 1.9129311827723892\n",
      "The iteration number 36 are 1.9129311827723892\n",
      "The iteration number 37 are 1.9129311827723892\n",
      "The iteration number 38 are 1.9129311827723892\n",
      "The iteration number 39 are 1.9129311827723892\n",
      "The iteration number 40 are 1.9129311827723892\n",
      "The iteration number 41 are 1.9129311827723892\n",
      "The iteration number 42 are 1.9129311827723892\n",
      "The iteration number 43 are 1.9129311827723892\n",
      "The iteration number 44 are 1.9129311827723892\n",
      "The iteration number 45 are 1.9129311827723892\n",
      "The iteration number 46 are 1.9129311827723892\n",
      "The iteration number 47 are 1.9129311827723892\n",
      "The iteration number 48 are 1.9129311827723892\n",
      "The iteration number 49 are 1.9129311827723892\n"
     ]
    },
    {
     "data": {
      "text/plain": [
       "1.9129311827723892"
      ]
     },
     "execution_count": 50,
     "metadata": {},
     "output_type": "execute_result"
    }
   ],
   "source": [
    "test = root_print(7, 3, 2, 50)\n",
    "test"
   ]
  },
  {
   "cell_type": "markdown",
   "metadata": {
    "tags": [
     "exercise"
    ]
   },
   "source": [
    "## Fibonacci Words\n",
    "\n",
    "A [Fibonacci word](https://en.wikipedia.org/wiki/Fibonacci_word) is a string of 0s and 1s constructed by repeatedly concatenating strings. The first two words are\n",
    "\n",
    "```\n",
    "S0 = \"0\"\n",
    "S1 = \"01\"\n",
    "```\n",
    "\n",
    "Then each word is formed by concatenating the previous two words in the sequence. For instance, `S2`, is formed by concatenating `S1` and `S0`. So\n",
    "\n",
    "```\n",
    "S2 = \"010\"\n",
    "S3 = \"01001\"\n",
    "```\n",
    "\n",
    "__Exercise 1.9 (20 points).__ Write a function `fib` that computes Fibonacci words. Your function should take an argument `n` that specifies which word to compute.\n",
    "\n",
    "Use your function to print the first 10 Fibonacci words."
   ]
  },
  {
   "cell_type": "code",
   "execution_count": 68,
   "metadata": {
    "tags": [
     "fib"
    ]
   },
   "outputs": [],
   "source": [
    "def fib2(n):\n",
    "    \n",
    "    a = \"0\"\n",
    "    b = \"01\"\n",
    "    \n",
    "    if n == 0:\n",
    "        return(a)\n",
    "    \n",
    "    elif n == 1:\n",
    "        #print(a)\n",
    "        return(b)\n",
    "\n",
    "    for i in range(n-1):\n",
    "        word = b + a\n",
    "        a = b\n",
    "        b = word    \n",
    "    #print(word)\n",
    "    return word\n"
   ]
  },
  {
   "cell_type": "code",
   "execution_count": 67,
   "metadata": {
    "tags": [
     "test"
    ]
   },
   "outputs": [
    {
     "data": {
      "text/plain": [
       "'010010100100101001010010010100100101001010010010100101001001010010010100101001001010010010100101001001010010100100101001001010010100100101001010'"
      ]
     },
     "execution_count": 67,
     "metadata": {},
     "output_type": "execute_result"
    }
   ],
   "source": [
    "Sx10 = fib2(10)\n",
    "Sx10"
   ]
  }
 ],
 "metadata": {
  "celltoolbar": "Tags",
  "kernelspec": {
   "display_name": "Python 3",
   "language": "python",
   "name": "python3"
  },
  "language_info": {
   "codemirror_mode": {
    "name": "ipython",
    "version": 3
   },
   "file_extension": ".py",
   "mimetype": "text/x-python",
   "name": "python",
   "nbconvert_exporter": "python",
   "pygments_lexer": "ipython3",
   "version": "3.7.1"
  }
 },
 "nbformat": 4,
 "nbformat_minor": 2
}
